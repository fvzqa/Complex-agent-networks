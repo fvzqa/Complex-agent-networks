{
 "cells": [
  {
   "cell_type": "code",
   "execution_count": 1,
   "metadata": {},
   "outputs": [],
   "source": [
    "x0 <- read.csv(\"exp_0.csv\", header = F)\n",
    "\n",
    "x1 <- read.csv(\"exp_10.csv\", header = F)\n",
    "\n",
    "x2 <- read.csv(\"exp_20.csv\", header = F)\n",
    "\n",
    "x3 <- read.csv(\"exp_30.csv\", header = F)\n",
    "\n",
    "x4 <- read.csv(\"exp_40.csv\", header = F)\n",
    "\n",
    "x5 <- read.csv(\"exp_50.csv\", header = F)\n",
    "\n",
    "x6 <- read.csv(\"exp_60.csv\", header = F) \n",
    "\n",
    "x7 <- read.csv(\"exp_70.csv\", header = F)\n",
    "\n",
    "x8 <- read.csv(\"exp_80.csv\", header = F)\n",
    "\n",
    "x9 <- read.csv(\"exp_90.csv\", header = F)\n",
    "\n",
    "x10 <- read.csv(\"exp_100.csv\", header = F)\n",
    "\n",
    "x11 <- read.csv(\"exp_110.csv\", header = F)\n",
    "\n",
    "x12 <- read.csv(\"exp_119.csv\", header = F)\n",
    "\n",
    "x0 <- x0$V1\n",
    "\n",
    "x1 <- x1$V1\n",
    "\n",
    "x2 <- x2$V1\n",
    "\n",
    "x3 <- x3$V1\n",
    "\n",
    "x4 <- x4$V1\n",
    "\n",
    "x5 <- x5$V1\n",
    "\n",
    "x6 <- x6$V1\n",
    "\n",
    "x7 <- x7$V1\n",
    "\n",
    "x8 <- x8$V1\n",
    "x9 <- x9$V1\n",
    "x10 <- x10$V1\n",
    "x11 <- x11$V1\n",
    "x12 <- x12$V1"
   ]
  },
  {
   "cell_type": "code",
   "execution_count": 2,
   "metadata": {},
   "outputs": [],
   "source": [
    "library(ggplot2)"
   ]
  },
  {
   "cell_type": "code",
   "execution_count": 6,
   "metadata": {},
   "outputs": [
    {
     "data": {
      "text/html": [
       "<strong>pdf:</strong> 2"
      ],
      "text/latex": [
       "\\textbf{pdf:} 2"
      ],
      "text/markdown": [
       "**pdf:** 2"
      ],
      "text/plain": [
       "pdf \n",
       "  2 "
      ]
     },
     "metadata": {},
     "output_type": "display_data"
    }
   ],
   "source": [
    "data <- data.frame(c(rep(0,5000),rep(10,5000),rep(20,5000), rep(30,5000),rep(40,5000),rep(50,5000),rep(60,5000), rep(70,5000), \n",
    "                    rep(80,5000), rep(90,5000), rep(100,5000), rep(110,5000), rep(120,5000)))\n",
    "\n",
    "x <- c(x0,x1,x2,x3,x4,x5,x6,x7,x8,x9,x10,x11,x12)\n",
    "\n",
    "data <-cbind(data,x)\n",
    "\n",
    "names(data) <- c('Porcentaje', 'Maxinfectados')\n",
    "\n",
    "data$Porcentaje <- as.factor(data$Porcentaje)\n",
    "\n",
    "png(\"influential-nodes(1).png\", width = 2500, height = 1500)\n",
    "p <- ggplot(data, aes(x=Porcentaje, y=Maxinfectados)) + \n",
    "  geom_violin(aes(fill= Porcentaje), scale = \"width\")\n",
    "p + geom_boxplot(width=0.2, fill = \"slategray\", colour = \"black\")+\n",
    "    theme(\n",
    "  panel.background = element_rect(fill = \"white\", colour = \"gray\",\n",
    "                                size = 2, linetype = \"solid\"),\n",
    "  panel.grid.major = element_line(size = 0.5, linetype = 'solid',\n",
    "                                colour = \"gray\"), \n",
    "  panel.grid.minor = element_line(size = 0.25, linetype = 'solid',\n",
    "                                colour = \"gray\")\n",
    "  ) + theme(axis.title.y = element_text(size = 50, angle = 90))+\n",
    "    theme(axis.text.x = element_text(angle = 00, hjust = 1, size=35,color=\"black\"))+\n",
    "theme(axis.text.y = element_text(angle = 00, hjust = 1, size=35,color=\"black\")) +\n",
    "theme(axis.title.x = element_text(size = 50, angle = 00)) + xlab(\"Cantidad de vacunados al inicio de la epidemia\") + ylab(\"Cantidad de Infectados\")+ theme(legend.position=\"none\")+\n",
    "scale_fill_manual(values = c(\"#49A4B9\",\"#49A4B9\",\"#49A4B9\",\"#49A4B9\",\"#49A4B9\",\"#49A4B9\",\"#49A4B9\",\"#49A4B9\",\"#49A4B9\",\"#49A4B9\",\"#49A4B9\",\"#49A4B9\",\"#49A4B9\"))\n",
    "dev.off()"
   ]
  },
  {
   "cell_type": "code",
   "execution_count": null,
   "metadata": {},
   "outputs": [],
   "source": []
  }
 ],
 "metadata": {
  "kernelspec": {
   "display_name": "R",
   "language": "R",
   "name": "ir"
  },
  "language_info": {
   "codemirror_mode": "r",
   "file_extension": ".r",
   "mimetype": "text/x-r-source",
   "name": "R",
   "pygments_lexer": "r",
   "version": "4.0.2"
  }
 },
 "nbformat": 4,
 "nbformat_minor": 4
}
