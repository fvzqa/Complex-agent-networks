{
 "cells": [
  {
   "cell_type": "code",
   "execution_count": 1,
   "metadata": {},
   "outputs": [],
   "source": [
    "import networkx as nx\n",
    "import pandas as pd\n",
    "import numpy as np\n",
    "import random"
   ]
  },
  {
   "cell_type": "code",
   "execution_count": 2,
   "metadata": {},
   "outputs": [],
   "source": [
    "H = nx.erdos_renyi_graph(1000,0.6)"
   ]
  },
  {
   "cell_type": "code",
   "execution_count": 3,
   "metadata": {},
   "outputs": [
    {
     "data": {
      "text/plain": [
       "True"
      ]
     },
     "execution_count": 3,
     "metadata": {},
     "output_type": "execute_result"
    }
   ],
   "source": [
    "nx.is_connected(H)"
   ]
  },
  {
   "cell_type": "code",
   "execution_count": 4,
   "metadata": {},
   "outputs": [],
   "source": [
    "list_of_events = []"
   ]
  },
  {
   "cell_type": "code",
   "execution_count": 5,
   "metadata": {},
   "outputs": [],
   "source": [
    "times, S, I, R = [0], [len(H.nodes)], [0], [0]"
   ]
  },
  {
   "cell_type": "code",
   "execution_count": 6,
   "metadata": {},
   "outputs": [],
   "source": [
    "Tmax = 10"
   ]
  },
  {
   "cell_type": "code",
   "execution_count": 7,
   "metadata": {},
   "outputs": [],
   "source": [
    "beta, gamma = 0.8, 1"
   ]
  },
  {
   "cell_type": "code",
   "execution_count": 8,
   "metadata": {},
   "outputs": [],
   "source": [
    "for u in H.nodes:\n",
    "    H.nodes[u]['status'] = 's'\n",
    "    H.nodes[u]['pred_inf_time'] = np.inf\n",
    "    #H.nodes[u]['isolation'] = 0"
   ]
  },
  {
   "cell_type": "markdown",
   "metadata": {},
   "source": [
    "n = 5 #cuántos nodos se aislarán"
   ]
  },
  {
   "cell_type": "markdown",
   "metadata": {},
   "source": [
    "isolated = np.random.choice(H.nodes, size = n)"
   ]
  },
  {
   "cell_type": "markdown",
   "metadata": {},
   "source": [
    "for x in isolated:\n",
    "    H.nodes[x]['isolation'] = 2"
   ]
  },
  {
   "cell_type": "code",
   "execution_count": 9,
   "metadata": {},
   "outputs": [],
   "source": [
    "u = np.random.choice(H.nodes, size = 1)[0]  #Escoger un nodo para infectar\n",
    "H.nodes[u]['pred_inf_time'] = 0 #se contagia al inicio"
   ]
  },
  {
   "cell_type": "code",
   "execution_count": 10,
   "metadata": {},
   "outputs": [],
   "source": [
    "event = (0, u, 'transmit')"
   ]
  },
  {
   "cell_type": "code",
   "execution_count": 11,
   "metadata": {},
   "outputs": [],
   "source": [
    "list_of_events.append(event)\n",
    "list_of_events.sort()"
   ]
  },
  {
   "cell_type": "code",
   "execution_count": 12,
   "metadata": {},
   "outputs": [],
   "source": [
    "def process_recovery(event):\n",
    "    global H, times, S, I, R\n",
    "    \n",
    "    H.nodes[event[1]]['status'] = 'r'\n",
    "    times.append(event[0])\n",
    "    S.append(S[-1])\n",
    "    I.append(I[-1]-1)\n",
    "    R.append(R[-1]+1)"
   ]
  },
  {
   "cell_type": "code",
   "execution_count": 13,
   "metadata": {},
   "outputs": [],
   "source": [
    "def process_transmission(event):\n",
    "    global H, times, S, I, R, list_of_events, beta, gamma, Tmax\n",
    "    \n",
    "    if H.nodes[event[1]]['status'] == 's':\n",
    "        \n",
    "        H.nodes[event[1]]['status'] = 'i'\n",
    "        times.append(event[0])\n",
    "        S.append(S[-1]-1)\n",
    "        I.append(I[-1]+1)\n",
    "        R.append(R[-1])\n",
    "        rec_time = event[0] + random.expovariate(gamma)\n",
    "        \n",
    "        if rec_time < Tmax:\n",
    "            new_event = (rec_time, event[1], 'r')\n",
    "            list_of_events.append(new_event)\n",
    "            list_of_events.sort()\n",
    "            \n",
    "        for target in H.neighbors(event[1]):\n",
    "            if H.nodes[target]['status'] == 's':\n",
    "                inf_time = event[0] + random.expovariate(beta)\n",
    "                \n",
    "                if inf_time < min(rec_time, H.nodes[target]['pred_inf_time'], Tmax):\n",
    "                    new_event = (inf_time, target, 'transmit')\n",
    "                    list_of_events.append(new_event)\n",
    "                    list_of_events.sort()\n",
    "                    H.nodes[target]['pred_inf_time'] = inf_time"
   ]
  },
  {
   "cell_type": "code",
   "execution_count": 14,
   "metadata": {},
   "outputs": [],
   "source": [
    "while(len(list_of_events) > 0):\n",
    "    event = list_of_events.pop(0)\n",
    "    \n",
    "    if event[2] == 'transmit':\n",
    "        process_transmission(event)\n",
    "    else:\n",
    "        process_recovery(event)"
   ]
  },
  {
   "cell_type": "code",
   "execution_count": 15,
   "metadata": {},
   "outputs": [],
   "source": [
    "network_data = np.column_stack((times, S, I, R))"
   ]
  },
  {
   "cell_type": "code",
   "execution_count": 16,
   "metadata": {},
   "outputs": [],
   "source": [
    "pd.DataFrame(network_data).to_csv(\"network_data.csv\")"
   ]
  },
  {
   "cell_type": "code",
   "execution_count": 17,
   "metadata": {},
   "outputs": [],
   "source": [
    "df = pd.DataFrame(network_data)"
   ]
  },
  {
   "cell_type": "code",
   "execution_count": 18,
   "metadata": {},
   "outputs": [
    {
     "data": {
      "text/html": [
       "<div>\n",
       "<style scoped>\n",
       "    .dataframe tbody tr th:only-of-type {\n",
       "        vertical-align: middle;\n",
       "    }\n",
       "\n",
       "    .dataframe tbody tr th {\n",
       "        vertical-align: top;\n",
       "    }\n",
       "\n",
       "    .dataframe thead th {\n",
       "        text-align: right;\n",
       "    }\n",
       "</style>\n",
       "<table border=\"1\" class=\"dataframe\">\n",
       "  <thead>\n",
       "    <tr style=\"text-align: right;\">\n",
       "      <th></th>\n",
       "      <th>0</th>\n",
       "      <th>1</th>\n",
       "      <th>2</th>\n",
       "      <th>3</th>\n",
       "    </tr>\n",
       "  </thead>\n",
       "  <tbody>\n",
       "    <tr>\n",
       "      <th>0</th>\n",
       "      <td>0.000000</td>\n",
       "      <td>1000.0</td>\n",
       "      <td>0.0</td>\n",
       "      <td>0.0</td>\n",
       "    </tr>\n",
       "    <tr>\n",
       "      <th>1</th>\n",
       "      <td>0.000000</td>\n",
       "      <td>999.0</td>\n",
       "      <td>1.0</td>\n",
       "      <td>0.0</td>\n",
       "    </tr>\n",
       "    <tr>\n",
       "      <th>2</th>\n",
       "      <td>0.000696</td>\n",
       "      <td>998.0</td>\n",
       "      <td>2.0</td>\n",
       "      <td>0.0</td>\n",
       "    </tr>\n",
       "    <tr>\n",
       "      <th>3</th>\n",
       "      <td>0.001981</td>\n",
       "      <td>997.0</td>\n",
       "      <td>3.0</td>\n",
       "      <td>0.0</td>\n",
       "    </tr>\n",
       "    <tr>\n",
       "      <th>4</th>\n",
       "      <td>0.002038</td>\n",
       "      <td>996.0</td>\n",
       "      <td>4.0</td>\n",
       "      <td>0.0</td>\n",
       "    </tr>\n",
       "    <tr>\n",
       "      <th>...</th>\n",
       "      <td>...</td>\n",
       "      <td>...</td>\n",
       "      <td>...</td>\n",
       "      <td>...</td>\n",
       "    </tr>\n",
       "    <tr>\n",
       "      <th>1641</th>\n",
       "      <td>0.996097</td>\n",
       "      <td>0.0</td>\n",
       "      <td>359.0</td>\n",
       "      <td>641.0</td>\n",
       "    </tr>\n",
       "    <tr>\n",
       "      <th>1642</th>\n",
       "      <td>0.996631</td>\n",
       "      <td>0.0</td>\n",
       "      <td>358.0</td>\n",
       "      <td>642.0</td>\n",
       "    </tr>\n",
       "    <tr>\n",
       "      <th>1643</th>\n",
       "      <td>0.997329</td>\n",
       "      <td>0.0</td>\n",
       "      <td>357.0</td>\n",
       "      <td>643.0</td>\n",
       "    </tr>\n",
       "    <tr>\n",
       "      <th>1644</th>\n",
       "      <td>0.997669</td>\n",
       "      <td>0.0</td>\n",
       "      <td>356.0</td>\n",
       "      <td>644.0</td>\n",
       "    </tr>\n",
       "    <tr>\n",
       "      <th>1645</th>\n",
       "      <td>0.997940</td>\n",
       "      <td>0.0</td>\n",
       "      <td>355.0</td>\n",
       "      <td>645.0</td>\n",
       "    </tr>\n",
       "  </tbody>\n",
       "</table>\n",
       "<p>1646 rows × 4 columns</p>\n",
       "</div>"
      ],
      "text/plain": [
       "             0       1      2      3\n",
       "0     0.000000  1000.0    0.0    0.0\n",
       "1     0.000000   999.0    1.0    0.0\n",
       "2     0.000696   998.0    2.0    0.0\n",
       "3     0.001981   997.0    3.0    0.0\n",
       "4     0.002038   996.0    4.0    0.0\n",
       "...        ...     ...    ...    ...\n",
       "1641  0.996097     0.0  359.0  641.0\n",
       "1642  0.996631     0.0  358.0  642.0\n",
       "1643  0.997329     0.0  357.0  643.0\n",
       "1644  0.997669     0.0  356.0  644.0\n",
       "1645  0.997940     0.0  355.0  645.0\n",
       "\n",
       "[1646 rows x 4 columns]"
      ]
     },
     "execution_count": 18,
     "metadata": {},
     "output_type": "execute_result"
    }
   ],
   "source": [
    "df[df[0] < 1]"
   ]
  },
  {
   "cell_type": "code",
   "execution_count": null,
   "metadata": {},
   "outputs": [],
   "source": []
  }
 ],
 "metadata": {
  "kernelspec": {
   "display_name": "Python 3",
   "language": "python",
   "name": "python3"
  },
  "language_info": {
   "codemirror_mode": {
    "name": "ipython",
    "version": 3
   },
   "file_extension": ".py",
   "mimetype": "text/x-python",
   "name": "python",
   "nbconvert_exporter": "python",
   "pygments_lexer": "ipython3",
   "version": "3.7.9"
  }
 },
 "nbformat": 4,
 "nbformat_minor": 4
}
